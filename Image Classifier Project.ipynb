{
 "cells": [
  {
   "cell_type": "code",
   "execution_count": 1,
   "metadata": {},
   "outputs": [],
   "source": [
    "import torch\n",
    "\n",
    "from torch import nn\n",
    "from torch import optim\n",
    "\n",
    "import workspace_utils as wu\n",
    "\n",
    "from torchvision import transforms, datasets, models\n",
    "\n",
    "from PIL import Image\n",
    "\n",
    "import matplotlib.pyplot as plt\n",
    "\n",
    "import numpy as np"
   ]
  },
  {
   "cell_type": "markdown",
   "metadata": {},
   "source": [
    "## Load the data"
   ]
  },
  {
   "cell_type": "code",
   "execution_count": 2,
   "metadata": {},
   "outputs": [],
   "source": [
    "data_dir = 'flowers'\n",
    "train_dir = data_dir + '/train'\n",
    "valid_dir = data_dir + '/valid'\n",
    "test_dir = data_dir + '/test'"
   ]
  },
  {
   "cell_type": "code",
   "execution_count": 3,
   "metadata": {},
   "outputs": [],
   "source": [
    "# The data needs to be processed and it's better to randomize\n",
    "train_transforms = transforms.Compose([transforms.RandomRotation(30),\n",
    "                                       transforms.RandomResizedCrop(224),\n",
    "                                       transforms.RandomHorizontalFlip(),\n",
    "                                       transforms.ToTensor(),\n",
    "                                       transforms.Normalize([0.485, 0.456, 0.406],\n",
    "                                                            [0.229, 0.224, 0.225])])\n",
    "\n",
    "test_transforms = transforms.Compose([transforms.Resize(224),\n",
    "                                      transforms.CenterCrop(224),\n",
    "                                      transforms.ToTensor(),\n",
    "                                      transforms.Normalize([0.485, 0.456, 0.406],\n",
    "                                                           [0.229, 0.224, 0.225])])\n",
    "\n",
    "# TODO: Load the datasets with ImageFolder\n",
    "train_data = datasets.ImageFolder(train_dir, transform=train_transforms)\n",
    "\n",
    "valid_data = datasets.ImageFolder(valid_dir, transform=test_transforms) \n",
    "test_data = datasets.ImageFolder(test_dir, transform=test_transforms) \n",
    "\n",
    "# TODO: Using the image datasets and the trainforms, define the dataloaders\n",
    "trainloader = torch.utils.data.DataLoader(train_data,batch_size=64, shuffle=True)\n",
    "validloader = torch.utils.data.DataLoader(valid_data,batch_size=64)\n",
    "testloader = torch.utils.data.DataLoader(test_data,batch_size=64)"
   ]
  },
  {
   "cell_type": "markdown",
   "metadata": {},
   "source": [
    "### Label mapping"
   ]
  },
  {
   "cell_type": "code",
   "execution_count": 4,
   "metadata": {},
   "outputs": [],
   "source": [
    "import json\n",
    "\n",
    "with open('cat_to_name.json', 'r') as f:\n",
    "    cat_to_name = json.load(f)"
   ]
  },
  {
   "cell_type": "markdown",
   "metadata": {},
   "source": [
    "# Building and training the classifier"
   ]
  },
  {
   "cell_type": "code",
   "execution_count": 5,
   "metadata": {},
   "outputs": [
    {
     "name": "stderr",
     "output_type": "stream",
     "text": [
      "Downloading: \"https://download.pytorch.org/models/alexnet-owt-4df8aa71.pth\" to /root/.torch/models/alexnet-owt-4df8aa71.pth\n",
      "100%|██████████| 244418560/244418560 [00:12<00:00, 19151206.38it/s]\n"
     ]
    }
   ],
   "source": [
    "model = models.alexnet(pretrained=True)"
   ]
  },
  {
   "cell_type": "code",
   "execution_count": 6,
   "metadata": {},
   "outputs": [],
   "source": [
    "# What is a criterion for choosing a good learning rate or how many nodes to have in the NN?\n",
    "\n",
    "device = torch.device(\"cuda\" if torch.cuda.is_available() else \"cpu\")\n",
    "\n",
    "# Freeze parameters so we don't backprop through them\n",
    "for param in model.parameters():\n",
    "    param.requires_grad = False\n",
    "    \n",
    "model.classifier = nn.Sequential(nn.Linear(9216, 4096),\n",
    "                                 nn.ReLU(),\n",
    "                                 nn.Dropout(0.2),\n",
    "                                 nn.Linear(4096, 102),\n",
    "                                 nn.LogSoftmax(dim=1))\n",
    "\n",
    "criterion = nn.NLLLoss()\n",
    "\n",
    "# Only train the classifier parameters, feature parameters are frozen\n",
    "optimizer = optim.Adam(model.classifier.parameters(), lr=0.001)\n",
    "\n",
    "model.to(device);"
   ]
  },
  {
   "cell_type": "code",
   "execution_count": 7,
   "metadata": {},
   "outputs": [],
   "source": [
    "run_state = dict()"
   ]
  },
  {
   "cell_type": "code",
   "execution_count": 8,
   "metadata": {},
   "outputs": [
    {
     "name": "stdout",
     "output_type": "stream",
     "text": [
      "Epoch 1/10.. Train loss: 12.397.. Validation loss: 9.567.. Validation accuracy: 0.096\n",
      "Epoch 1/10.. Train loss: 5.770.. Validation loss: 3.312.. Validation accuracy: 0.292\n",
      "Epoch 1/10.. Train loss: 3.129.. Validation loss: 2.466.. Validation accuracy: 0.421\n",
      "Epoch 1/10.. Train loss: 2.696.. Validation loss: 1.804.. Validation accuracy: 0.557\n",
      "Epoch 1/10.. Train loss: 2.092.. Validation loss: 1.482.. Validation accuracy: 0.610\n",
      "Epoch 1/10.. Train loss: 1.986.. Validation loss: 1.391.. Validation accuracy: 0.634\n",
      "Epoch 1/10.. Train loss: 1.710.. Validation loss: 1.262.. Validation accuracy: 0.663\n",
      "Epoch 1/10.. Train loss: 1.771.. Validation loss: 1.057.. Validation accuracy: 0.724\n",
      "Epoch 1/10.. Train loss: 1.521.. Validation loss: 1.095.. Validation accuracy: 0.693\n",
      "Epoch 1/10.. Train loss: 1.444.. Validation loss: 0.995.. Validation accuracy: 0.727\n",
      "Epoch 2/10.. Train loss: 1.452.. Validation loss: 1.032.. Validation accuracy: 0.718\n",
      "Epoch 2/10.. Train loss: 1.319.. Validation loss: 1.064.. Validation accuracy: 0.708\n",
      "Epoch 2/10.. Train loss: 1.344.. Validation loss: 0.961.. Validation accuracy: 0.730\n",
      "Epoch 2/10.. Train loss: 1.307.. Validation loss: 0.918.. Validation accuracy: 0.758\n",
      "Epoch 2/10.. Train loss: 1.257.. Validation loss: 0.920.. Validation accuracy: 0.754\n",
      "Epoch 2/10.. Train loss: 1.310.. Validation loss: 0.862.. Validation accuracy: 0.778\n",
      "Epoch 2/10.. Train loss: 1.313.. Validation loss: 0.819.. Validation accuracy: 0.778\n",
      "Epoch 2/10.. Train loss: 1.244.. Validation loss: 0.813.. Validation accuracy: 0.785\n",
      "Epoch 2/10.. Train loss: 1.235.. Validation loss: 0.844.. Validation accuracy: 0.785\n",
      "Epoch 2/10.. Train loss: 1.321.. Validation loss: 0.832.. Validation accuracy: 0.781\n",
      "Epoch 3/10.. Train loss: 1.287.. Validation loss: 0.865.. Validation accuracy: 0.758\n",
      "Epoch 3/10.. Train loss: 1.074.. Validation loss: 0.790.. Validation accuracy: 0.799\n",
      "Epoch 3/10.. Train loss: 1.176.. Validation loss: 0.763.. Validation accuracy: 0.777\n",
      "Epoch 3/10.. Train loss: 1.064.. Validation loss: 0.803.. Validation accuracy: 0.781\n",
      "Epoch 3/10.. Train loss: 0.966.. Validation loss: 0.746.. Validation accuracy: 0.784\n",
      "Epoch 3/10.. Train loss: 1.082.. Validation loss: 0.771.. Validation accuracy: 0.785\n",
      "Epoch 3/10.. Train loss: 1.092.. Validation loss: 0.829.. Validation accuracy: 0.792\n",
      "Epoch 3/10.. Train loss: 1.102.. Validation loss: 0.796.. Validation accuracy: 0.785\n",
      "Epoch 3/10.. Train loss: 1.162.. Validation loss: 0.748.. Validation accuracy: 0.790\n",
      "Epoch 3/10.. Train loss: 1.155.. Validation loss: 0.765.. Validation accuracy: 0.807\n",
      "Epoch 4/10.. Train loss: 1.008.. Validation loss: 0.735.. Validation accuracy: 0.797\n",
      "Epoch 4/10.. Train loss: 1.026.. Validation loss: 0.719.. Validation accuracy: 0.805\n",
      "Epoch 4/10.. Train loss: 1.110.. Validation loss: 0.768.. Validation accuracy: 0.794\n",
      "Epoch 4/10.. Train loss: 1.002.. Validation loss: 0.758.. Validation accuracy: 0.795\n",
      "Epoch 4/10.. Train loss: 0.909.. Validation loss: 0.750.. Validation accuracy: 0.803\n",
      "Epoch 4/10.. Train loss: 1.025.. Validation loss: 0.730.. Validation accuracy: 0.802\n",
      "Epoch 4/10.. Train loss: 1.068.. Validation loss: 0.703.. Validation accuracy: 0.807\n",
      "Epoch 4/10.. Train loss: 1.030.. Validation loss: 0.738.. Validation accuracy: 0.797\n",
      "Epoch 4/10.. Train loss: 0.918.. Validation loss: 0.693.. Validation accuracy: 0.814\n",
      "Epoch 4/10.. Train loss: 0.931.. Validation loss: 0.647.. Validation accuracy: 0.826\n",
      "Epoch 4/10.. Train loss: 1.091.. Validation loss: 0.790.. Validation accuracy: 0.804\n",
      "Epoch 5/10.. Train loss: 0.987.. Validation loss: 0.678.. Validation accuracy: 0.809\n",
      "Epoch 5/10.. Train loss: 0.903.. Validation loss: 0.687.. Validation accuracy: 0.827\n",
      "Epoch 5/10.. Train loss: 0.883.. Validation loss: 0.714.. Validation accuracy: 0.830\n",
      "Epoch 5/10.. Train loss: 0.981.. Validation loss: 0.696.. Validation accuracy: 0.828\n",
      "Epoch 5/10.. Train loss: 0.928.. Validation loss: 0.707.. Validation accuracy: 0.813\n",
      "Epoch 5/10.. Train loss: 0.947.. Validation loss: 0.678.. Validation accuracy: 0.823\n",
      "Epoch 5/10.. Train loss: 1.018.. Validation loss: 0.700.. Validation accuracy: 0.818\n",
      "Epoch 5/10.. Train loss: 0.935.. Validation loss: 0.693.. Validation accuracy: 0.811\n",
      "Epoch 5/10.. Train loss: 0.988.. Validation loss: 0.648.. Validation accuracy: 0.823\n",
      "Epoch 5/10.. Train loss: 0.990.. Validation loss: 0.707.. Validation accuracy: 0.802\n",
      "Epoch 6/10.. Train loss: 0.912.. Validation loss: 0.687.. Validation accuracy: 0.826\n",
      "Epoch 6/10.. Train loss: 0.874.. Validation loss: 0.648.. Validation accuracy: 0.823\n",
      "Epoch 6/10.. Train loss: 0.926.. Validation loss: 0.684.. Validation accuracy: 0.829\n",
      "Epoch 6/10.. Train loss: 1.034.. Validation loss: 0.771.. Validation accuracy: 0.800\n",
      "Epoch 6/10.. Train loss: 0.911.. Validation loss: 0.727.. Validation accuracy: 0.810\n",
      "Epoch 6/10.. Train loss: 0.851.. Validation loss: 0.619.. Validation accuracy: 0.838\n",
      "Epoch 6/10.. Train loss: 0.747.. Validation loss: 0.707.. Validation accuracy: 0.829\n",
      "Epoch 6/10.. Train loss: 1.004.. Validation loss: 0.641.. Validation accuracy: 0.831\n",
      "Epoch 6/10.. Train loss: 0.967.. Validation loss: 0.738.. Validation accuracy: 0.817\n",
      "Epoch 6/10.. Train loss: 0.990.. Validation loss: 0.765.. Validation accuracy: 0.810\n",
      "Epoch 7/10.. Train loss: 0.872.. Validation loss: 0.774.. Validation accuracy: 0.808\n",
      "Epoch 7/10.. Train loss: 0.826.. Validation loss: 0.687.. Validation accuracy: 0.826\n",
      "Epoch 7/10.. Train loss: 0.872.. Validation loss: 0.665.. Validation accuracy: 0.830\n",
      "Epoch 7/10.. Train loss: 0.871.. Validation loss: 0.713.. Validation accuracy: 0.824\n",
      "Epoch 7/10.. Train loss: 0.800.. Validation loss: 0.731.. Validation accuracy: 0.824\n",
      "Epoch 7/10.. Train loss: 0.836.. Validation loss: 0.805.. Validation accuracy: 0.817\n",
      "Epoch 7/10.. Train loss: 0.788.. Validation loss: 0.719.. Validation accuracy: 0.829\n",
      "Epoch 7/10.. Train loss: 0.958.. Validation loss: 0.655.. Validation accuracy: 0.852\n",
      "Epoch 7/10.. Train loss: 0.850.. Validation loss: 0.737.. Validation accuracy: 0.823\n",
      "Epoch 7/10.. Train loss: 1.053.. Validation loss: 0.637.. Validation accuracy: 0.849\n",
      "Epoch 7/10.. Train loss: 0.941.. Validation loss: 0.781.. Validation accuracy: 0.818\n",
      "Epoch 8/10.. Train loss: 0.930.. Validation loss: 0.707.. Validation accuracy: 0.829\n",
      "Epoch 8/10.. Train loss: 0.906.. Validation loss: 0.672.. Validation accuracy: 0.831\n",
      "Epoch 8/10.. Train loss: 0.797.. Validation loss: 0.538.. Validation accuracy: 0.852\n",
      "Epoch 8/10.. Train loss: 0.817.. Validation loss: 0.598.. Validation accuracy: 0.837\n",
      "Epoch 8/10.. Train loss: 0.893.. Validation loss: 0.638.. Validation accuracy: 0.831\n",
      "Epoch 8/10.. Train loss: 0.850.. Validation loss: 0.615.. Validation accuracy: 0.848\n",
      "Epoch 8/10.. Train loss: 0.851.. Validation loss: 0.656.. Validation accuracy: 0.827\n",
      "Epoch 8/10.. Train loss: 0.803.. Validation loss: 0.614.. Validation accuracy: 0.847\n",
      "Epoch 8/10.. Train loss: 0.952.. Validation loss: 0.711.. Validation accuracy: 0.835\n",
      "Epoch 8/10.. Train loss: 0.901.. Validation loss: 0.654.. Validation accuracy: 0.832\n",
      "Epoch 9/10.. Train loss: 0.894.. Validation loss: 0.659.. Validation accuracy: 0.837\n",
      "Epoch 9/10.. Train loss: 0.842.. Validation loss: 0.624.. Validation accuracy: 0.822\n",
      "Epoch 9/10.. Train loss: 0.751.. Validation loss: 0.671.. Validation accuracy: 0.836\n",
      "Epoch 9/10.. Train loss: 0.806.. Validation loss: 0.660.. Validation accuracy: 0.842\n",
      "Epoch 9/10.. Train loss: 0.841.. Validation loss: 0.702.. Validation accuracy: 0.835\n",
      "Epoch 9/10.. Train loss: 0.820.. Validation loss: 0.669.. Validation accuracy: 0.829\n",
      "Epoch 9/10.. Train loss: 0.791.. Validation loss: 0.665.. Validation accuracy: 0.846\n",
      "Epoch 9/10.. Train loss: 0.978.. Validation loss: 0.696.. Validation accuracy: 0.817\n",
      "Epoch 9/10.. Train loss: 0.899.. Validation loss: 0.593.. Validation accuracy: 0.847\n",
      "Epoch 9/10.. Train loss: 0.741.. Validation loss: 0.604.. Validation accuracy: 0.848\n",
      "Epoch 10/10.. Train loss: 0.833.. Validation loss: 0.645.. Validation accuracy: 0.844\n",
      "Epoch 10/10.. Train loss: 0.786.. Validation loss: 0.586.. Validation accuracy: 0.845\n",
      "Epoch 10/10.. Train loss: 0.846.. Validation loss: 0.727.. Validation accuracy: 0.848\n",
      "Epoch 10/10.. Train loss: 0.836.. Validation loss: 0.687.. Validation accuracy: 0.840\n",
      "Epoch 10/10.. Train loss: 0.725.. Validation loss: 0.646.. Validation accuracy: 0.841\n"
     ]
    },
    {
     "name": "stdout",
     "output_type": "stream",
     "text": [
      "Epoch 10/10.. Train loss: 0.869.. Validation loss: 0.746.. Validation accuracy: 0.818\n",
      "Epoch 10/10.. Train loss: 0.793.. Validation loss: 0.589.. Validation accuracy: 0.852\n",
      "Epoch 10/10.. Train loss: 0.923.. Validation loss: 0.586.. Validation accuracy: 0.852\n",
      "Epoch 10/10.. Train loss: 0.790.. Validation loss: 0.674.. Validation accuracy: 0.833\n",
      "Epoch 10/10.. Train loss: 0.857.. Validation loss: 0.629.. Validation accuracy: 0.846\n",
      "Epoch 10/10.. Train loss: 0.839.. Validation loss: 0.656.. Validation accuracy: 0.843\n"
     ]
    }
   ],
   "source": [
    "# Keep this workbook active during learning cycles, load the checkpoint below, if you want to use a pretrained classifier\n",
    "\n",
    "with wu.active_session():\n",
    "    epochs = 10\n",
    "    steps = 0\n",
    "    running_loss = 0\n",
    "    print_every = 10\n",
    "    \n",
    "    train_losses, valid_losses = [], []\n",
    "    \n",
    "    for epoch in range(epochs):\n",
    "        for inputs, labels in trainloader:\n",
    "            steps += 1\n",
    "            # Move input and label tensors to the default device\n",
    "            inputs, labels = inputs.to(device), labels.to(device)\n",
    "\n",
    "            optimizer.zero_grad()\n",
    "\n",
    "            logps = model.forward(inputs)\n",
    "            loss = criterion(logps, labels)\n",
    "            loss.backward()\n",
    "            optimizer.step()\n",
    "\n",
    "            running_loss += loss.item()\n",
    "\n",
    "            if steps % print_every == 0:\n",
    "                valid_loss = 0\n",
    "                accuracy = 0\n",
    "                model.eval()\n",
    "                with torch.no_grad():\n",
    "                    for inputs, labels in validloader:\n",
    "                        inputs, labels = inputs.to(device), labels.to(device)\n",
    "                        logps = model.forward(inputs)\n",
    "                        batch_loss = criterion(logps, labels)\n",
    "\n",
    "                        valid_loss += batch_loss.item()\n",
    "\n",
    "                        # Calculate accuracy\n",
    "                        ps = torch.exp(logps)\n",
    "                        top_p, top_class = ps.topk(1, dim=1)\n",
    "                        equals = top_class == labels.view(*top_class.shape)\n",
    "                        accuracy += torch.mean(equals.type(torch.FloatTensor)).item()\n",
    "\n",
    "                print(f\"Epoch {epoch+1}/{epochs}.. \"\n",
    "                      f\"Train loss: {running_loss/print_every:.3f}.. \"\n",
    "                      f\"Validation loss: {valid_loss/len(testloader):.3f}.. \"\n",
    "                      f\"Validation accuracy: {accuracy/len(testloader):.3f}\")\n",
    "                \n",
    "                train_losses.append(running_loss/len(trainloader))\n",
    "                valid_losses.append(valid_loss/len(validloader))\n",
    "                \n",
    "                run_state['epoch'] = epoch\n",
    "                run_state['loss'] = valid_loss/len(testloader)\n",
    "                \n",
    "                running_loss = 0\n",
    "                model.train()\n",
    "                \n",
    "model.class_to_idx = train_data.class_to_idx"
   ]
  },
  {
   "cell_type": "markdown",
   "metadata": {},
   "source": [
    "## Testing"
   ]
  },
  {
   "cell_type": "code",
   "execution_count": 15,
   "metadata": {},
   "outputs": [
    {
     "name": "stdout",
     "output_type": "stream",
     "text": [
      "Test loss: 0.701.. Test accuracy: 0.842\n"
     ]
    },
    {
     "data": {
      "text/plain": [
       "AlexNet(\n",
       "  (features): Sequential(\n",
       "    (0): Conv2d(3, 64, kernel_size=(11, 11), stride=(4, 4), padding=(2, 2))\n",
       "    (1): ReLU(inplace)\n",
       "    (2): MaxPool2d(kernel_size=3, stride=2, padding=0, dilation=1, ceil_mode=False)\n",
       "    (3): Conv2d(64, 192, kernel_size=(5, 5), stride=(1, 1), padding=(2, 2))\n",
       "    (4): ReLU(inplace)\n",
       "    (5): MaxPool2d(kernel_size=3, stride=2, padding=0, dilation=1, ceil_mode=False)\n",
       "    (6): Conv2d(192, 384, kernel_size=(3, 3), stride=(1, 1), padding=(1, 1))\n",
       "    (7): ReLU(inplace)\n",
       "    (8): Conv2d(384, 256, kernel_size=(3, 3), stride=(1, 1), padding=(1, 1))\n",
       "    (9): ReLU(inplace)\n",
       "    (10): Conv2d(256, 256, kernel_size=(3, 3), stride=(1, 1), padding=(1, 1))\n",
       "    (11): ReLU(inplace)\n",
       "    (12): MaxPool2d(kernel_size=3, stride=2, padding=0, dilation=1, ceil_mode=False)\n",
       "  )\n",
       "  (classifier): Sequential(\n",
       "    (0): Linear(in_features=9216, out_features=4096, bias=True)\n",
       "    (1): ReLU()\n",
       "    (2): Dropout(p=0.2)\n",
       "    (3): Linear(in_features=4096, out_features=102, bias=True)\n",
       "    (4): LogSoftmax()\n",
       "  )\n",
       ")"
      ]
     },
     "execution_count": 15,
     "metadata": {},
     "output_type": "execute_result"
    }
   ],
   "source": [
    "test_loss = 0\n",
    "accuracy = 0\n",
    "\n",
    "model.cuda()\n",
    "model.eval()\n",
    "\n",
    "with torch.no_grad():\n",
    "    for inputs, labels in testloader:\n",
    "        inputs, labels = inputs.to(device), labels.to(device)\n",
    "        logps = model.forward(inputs)\n",
    "        batch_loss = criterion(logps, labels)\n",
    "\n",
    "        test_loss += batch_loss.item()\n",
    "\n",
    "        # Calculate accuracy\n",
    "        ps = torch.exp(logps)\n",
    "        top_p, top_class = ps.topk(1, dim=1)\n",
    "        equals = top_class == labels.view(*top_class.shape)\n",
    "        accuracy += torch.mean(equals.type(torch.FloatTensor)).item()\n",
    "        \n",
    "print(f\"Test loss: {test_loss/len(testloader):.3f}.. \"\n",
    "      f\"Test accuracy: {accuracy/len(testloader):.3f}\")\n",
    "\n",
    "model.cpu()"
   ]
  },
  {
   "cell_type": "markdown",
   "metadata": {},
   "source": [
    "## Save the checkpoint"
   ]
  },
  {
   "cell_type": "code",
   "execution_count": 16,
   "metadata": {},
   "outputs": [],
   "source": [
    "def save_model(model, optimizer, run_state):\n",
    "    # Switch to CPU, since command line tool is likely to be used without GPU\n",
    "    model.cpu()\n",
    "    \n",
    "    checkpoint = {'state_dict': model.state_dict(),\n",
    "                  'classifier' : model.classifier,\n",
    "                  'train_class_to_idx' : model.class_to_idx,\n",
    "                  'run_state' : run_state,\n",
    "                  'optim_state_dict': optimizer.state_dict()}\n",
    "\n",
    "    torch.save(checkpoint, 'checkpoint.pth')"
   ]
  },
  {
   "cell_type": "markdown",
   "metadata": {},
   "source": [
    "## Loading the checkpoint"
   ]
  },
  {
   "cell_type": "code",
   "execution_count": 26,
   "metadata": {},
   "outputs": [],
   "source": [
    "def load_checkpoint(filepath):\n",
    "    checkpoint = torch.load(filepath)\n",
    "    \n",
    "    model = models.alexnet(pretrained=True)\n",
    "    \n",
    "    model.classifier = (checkpoint['classifier'])\n",
    "    model.load_state_dict(checkpoint['state_dict'])\n",
    "    model.class_to_idx = checkpoint['train_class_to_idx']\n",
    "    \n",
    "    optimizer = optim.Adam(model.classifier.parameters())\n",
    "    optimizer.load_state_dict(checkpoint['optim_state_dict'])\n",
    "    \n",
    "    model.cpu()\n",
    "    \n",
    "    return model,optimizer"
   ]
  },
  {
   "cell_type": "markdown",
   "metadata": {},
   "source": [
    "# Saving / Loading"
   ]
  },
  {
   "cell_type": "code",
   "execution_count": 17,
   "metadata": {},
   "outputs": [],
   "source": [
    "save_model(model,optimizer,run_state)"
   ]
  },
  {
   "cell_type": "code",
   "execution_count": 27,
   "metadata": {},
   "outputs": [],
   "source": [
    "model, optimizer = load_checkpoint('checkpoint.pth')"
   ]
  },
  {
   "cell_type": "markdown",
   "metadata": {},
   "source": [
    "## Image Preprocessing"
   ]
  },
  {
   "cell_type": "code",
   "execution_count": 21,
   "metadata": {},
   "outputs": [],
   "source": [
    "def process_image(image):\n",
    "    ''' Scales, crops, and normalizes a PIL image for a PyTorch model,\n",
    "        returns an Numpy array\n",
    "    '''\n",
    "    \n",
    "    # Width is shorter, shrink it to 256, otherwise shrink height\n",
    "    if image.width < image.height:\n",
    "        image = image.resize(( 256, round(image.height * 256/image.width)))\n",
    "    else:\n",
    "        image = image.resize(( round(image.width * 256/image.height), 256))\n",
    "    \n",
    "    \n",
    "    w_cen = round(image.width/2)\n",
    "    h_cen = round(image.height/2)\n",
    "    \n",
    "    x0 = round(w_cen-224/2)\n",
    "    y0 = round(h_cen - 224/2)\n",
    "    \n",
    "    image = image.crop((x0,y0,x0+224,y0+224))\n",
    "    \n",
    "    np_image = np.array(image) / 255\n",
    "    \n",
    "    mean = np.array([0.485, 0.456, 0.406])\n",
    "    std = np.array([0.229, 0.224, 0.225])\n",
    "    \n",
    "    np_image = (np_image - mean) / std\n",
    "    \n",
    "    return np_image.transpose((2, 0, 1))"
   ]
  },
  {
   "cell_type": "code",
   "execution_count": 22,
   "metadata": {},
   "outputs": [],
   "source": [
    "def imshow(image, ax=None, title=None):\n",
    "    \"\"\"Imshow for Tensor.\"\"\"\n",
    "    if ax is None:\n",
    "        fig, ax = plt.subplots()\n",
    "    \n",
    "    # PyTorch tensors assume the color channel is the first dimension\n",
    "    # but matplotlib assumes is the third dimension\n",
    "    image = image.numpy().transpose((1, 2, 0))\n",
    "    \n",
    "    # Undo preprocessing\n",
    "    mean = np.array([0.485, 0.456, 0.406])\n",
    "    std = np.array([0.229, 0.224, 0.225])\n",
    "    image = std * image + mean\n",
    "    \n",
    "    # Image needs to be clipped between 0 and 1 or it looks like noise when displayed\n",
    "    image = np.clip(image, 0, 1)\n",
    "    \n",
    "    ax.imshow(image)\n",
    "    \n",
    "    return ax"
   ]
  },
  {
   "cell_type": "markdown",
   "metadata": {},
   "source": [
    "## Class Prediction"
   ]
  },
  {
   "cell_type": "code",
   "execution_count": 24,
   "metadata": {},
   "outputs": [],
   "source": [
    "def predict(image_path, model, topk=5):\n",
    "    ''' Predict the class (or classes) of an image using a trained deep learning model.\n",
    "    '''\n",
    "    with torch.no_grad():\n",
    "\n",
    "        model.eval()\n",
    "        \n",
    "        im = Image.open(image_path)\n",
    "        proc_img = process_image(im)\n",
    "\n",
    "        # forward needs a batch dimension, so we need to unsqueeze\n",
    "        imgTensor = torch.from_numpy(proc_img).type(torch.FloatTensor).unsqueeze(0)\n",
    "        \n",
    "        top = torch.exp(model.forward(imgTensor)).topk(5)\n",
    "        probs = top[0].numpy().flatten()\n",
    "        classes = top[1].numpy().flatten()\n",
    "\n",
    "        # CAVE https://dev.to/renegadecoder94/how-to-invert-a-dictionary-in-python-2150\n",
    "        idx_to_class = {value: key for key, value in model.class_to_idx.items()}\n",
    "\n",
    "        print(classes)\n",
    "        print(probs)\n",
    "        \n",
    "        for i,c in enumerate(classes):\n",
    "            classes[i] = idx_to_class[c]\n",
    "\n",
    "        return probs, classes"
   ]
  },
  {
   "cell_type": "markdown",
   "metadata": {},
   "source": [
    "## Sanity Checking"
   ]
  },
  {
   "cell_type": "code",
   "execution_count": 28,
   "metadata": {},
   "outputs": [
    {
     "name": "stdout",
     "output_type": "stream",
     "text": [
      "[23 91 85 25 83]\n",
      "[ 0.64035505  0.2411866   0.0685564   0.01255104  0.01156579]\n"
     ]
    },
    {
     "data": {
      "image/png": "[encoded data removed]",
      "text/plain": [
       "<matplotlib.figure.Figure at 0x7f7a604b0a90>"
      ]
     },
     "metadata": {
      "needs_background": "light"
     },
     "output_type": "display_data"
    }
   ],
   "source": [
    "img = 'flowers/test/4/image_05640.jpg'\n",
    "img = 'flowers/test/28/image_05230.jpg'\n",
    "probs,classes = predict(img,model)\n",
    "\n",
    "cats = []\n",
    "\n",
    "for c in classes:\n",
    "    cats.append(cat_to_name[str(c)])\n",
    "    \n",
    "fig, ax = plt.subplots(1,2)\n",
    "\n",
    "y = np.arange(len(classes))\n",
    "\n",
    "ax[0].barh(y,probs)\n",
    "ax[0].set_yticks(y)\n",
    "ax[0].set_yticklabels(cats)\n",
    "\n",
    "im = Image.open(img)\n",
    "imshow(torch.Tensor(process_image(im)),ax=ax[1])\n",
    "ax[1].set_title('Actual: {}'.format(cat_to_name[str(img.split('/')[2])]))\n",
    "plt.show()"
   ]
  }
 ],
 "metadata": {
  "kernelspec": {
   "display_name": "Python 3",
   "language": "python",
   "name": "python3"
  },
  "language_info": {
   "codemirror_mode": {
    "name": "ipython",
    "version": 3
   },
   "file_extension": ".py",
   "mimetype": "text/x-python",
   "name": "python",
   "nbconvert_exporter": "python",
   "pygments_lexer": "ipython3",
   "version": "3.7.6"
  }
 },
 "nbformat": 4,
 "nbformat_minor": 2
}
